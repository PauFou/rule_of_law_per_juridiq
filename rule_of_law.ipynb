{
 "cells": [
  {
   "cell_type": "code",
   "execution_count": 1,
   "metadata": {},
   "outputs": [],
   "source": [
    "%load_ext autoreload\n",
    "%autoreload 2\n",
    "import pandas as pd\n",
    "import numpy as np \n",
    "import matplotlib.pyplot as plt\n",
    "import seaborn as sns\n",
    "import statsmodels.formula.api as smf\n"
   ]
  },
  {
   "cell_type": "code",
   "execution_count": 2,
   "metadata": {},
   "outputs": [
    {
     "name": "stdout",
     "output_type": "stream",
     "text": [
      "\u001b[01;34m.\u001b[0m\r\n",
      "├── \u001b[01;34mdata\u001b[0m\r\n",
      "│   ├── \u001b[00mDebt-enforcement-database-NBER.xls\u001b[0m\r\n",
      "│   ├── \u001b[00mdebt.csv\u001b[0m\r\n",
      "│   ├── \u001b[00mdebt_info.csv\u001b[0m\r\n",
      "│   ├── \u001b[00mgdp_per_cap.csv\u001b[0m\r\n",
      "│   └── \u001b[00mrule_of_law.csv\u001b[0m\r\n",
      "└── \u001b[00mrule_of_law.ipynb\u001b[0m\r\n",
      "\r\n",
      "2 directories, 6 files\r\n"
     ]
    }
   ],
   "source": [
    "!tree\n"
   ]
  },
  {
   "cell_type": "markdown",
   "metadata": {},
   "source": [
    "# Law"
   ]
  },
  {
   "cell_type": "markdown",
   "metadata": {},
   "source": []
  },
  {
   "cell_type": "code",
   "execution_count": 3,
   "metadata": {},
   "outputs": [
    {
     "data": {
      "text/html": [
       "<div>\n",
       "<style scoped>\n",
       "    .dataframe tbody tr th:only-of-type {\n",
       "        vertical-align: middle;\n",
       "    }\n",
       "\n",
       "    .dataframe tbody tr th {\n",
       "        vertical-align: top;\n",
       "    }\n",
       "\n",
       "    .dataframe thead th {\n",
       "        text-align: right;\n",
       "    }\n",
       "</style>\n",
       "<table border=\"1\" class=\"dataframe\">\n",
       "  <thead>\n",
       "    <tr style=\"text-align: right;\">\n",
       "      <th></th>\n",
       "      <th>code</th>\n",
       "      <th>corrupt</th>\n",
       "    </tr>\n",
       "  </thead>\n",
       "  <tbody>\n",
       "    <tr>\n",
       "      <th>0</th>\n",
       "      <td>ALB</td>\n",
       "      <td>6,528</td>\n",
       "    </tr>\n",
       "    <tr>\n",
       "      <th>1</th>\n",
       "      <td>DZA</td>\n",
       "      <td>5,714</td>\n",
       "    </tr>\n",
       "    <tr>\n",
       "      <th>2</th>\n",
       "      <td>AGO</td>\n",
       "      <td>5,000</td>\n",
       "    </tr>\n",
       "    <tr>\n",
       "      <th>3</th>\n",
       "      <td>ARG</td>\n",
       "      <td>6,012</td>\n",
       "    </tr>\n",
       "    <tr>\n",
       "      <th>4</th>\n",
       "      <td>ARM</td>\n",
       "      <td>NaN</td>\n",
       "    </tr>\n",
       "  </tbody>\n",
       "</table>\n",
       "</div>"
      ],
      "text/plain": [
       "  code corrupt\n",
       "0  ALB   6,528\n",
       "1  DZA   5,714\n",
       "2  AGO   5,000\n",
       "3  ARG   6,012\n",
       "4  ARM     NaN"
      ]
     },
     "execution_count": 3,
     "metadata": {},
     "output_type": "execute_result"
    }
   ],
   "source": [
    "rule_of_law_df = pd.read_csv(\"data/rule_of_law.csv\", delimiter=\";\")\n",
    "debt_df = pd.read_csv(\"data/debt_info.csv\", delimiter=\";\")\n",
    "gdp_df = pd.read_csv(\"data/gdp_per_cap.csv\")\n",
    "corrupt_df = debt_df[[\"code\",\"corrupt\"]]\n",
    "gdp_df = gdp_df[(gdp_df['Time'] == 2021)&(gdp_df['Subject'] == \"GDP per head of population\")&(gdp_df['Measure'] == \"USD, current prices, current PPPs\")]\n",
    "gdp_df = gdp_df.rename(columns = {'LOCATION':'code'})\n",
    "corrupt_df.head()"
   ]
  },
  {
   "cell_type": "code",
   "execution_count": 4,
   "metadata": {},
   "outputs": [
    {
     "data": {
      "text/html": [
       "<div>\n",
       "<style scoped>\n",
       "    .dataframe tbody tr th:only-of-type {\n",
       "        vertical-align: middle;\n",
       "    }\n",
       "\n",
       "    .dataframe tbody tr th {\n",
       "        vertical-align: top;\n",
       "    }\n",
       "\n",
       "    .dataframe thead th {\n",
       "        text-align: right;\n",
       "    }\n",
       "</style>\n",
       "<table border=\"1\" class=\"dataframe\">\n",
       "  <thead>\n",
       "    <tr style=\"text-align: right;\">\n",
       "      <th></th>\n",
       "      <th>code</th>\n",
       "      <th>country</th>\n",
       "      <th>igp</th>\n",
       "      <th>bkorigin</th>\n",
       "      <th>civil</th>\n",
       "      <th>eng</th>\n",
       "      <th>fren</th>\n",
       "      <th>ger</th>\n",
       "      <th>nordic</th>\n",
       "      <th>aproc</th>\n",
       "      <th>...</th>\n",
       "      <th>effbank</th>\n",
       "      <th>loan</th>\n",
       "      <th>credimp</th>\n",
       "      <th>sound</th>\n",
       "      <th>sophisti</th>\n",
       "      <th>formali</th>\n",
       "      <th>b_delayt</th>\n",
       "      <th>infraest</th>\n",
       "      <th>corrupt</th>\n",
       "      <th>taxevas</th>\n",
       "    </tr>\n",
       "  </thead>\n",
       "  <tbody>\n",
       "    <tr>\n",
       "      <th>0</th>\n",
       "      <td>ALB</td>\n",
       "      <td>Albania</td>\n",
       "      <td>3. Lower Middle Income</td>\n",
       "      <td>German</td>\n",
       "      <td>1.0</td>\n",
       "      <td>0.0</td>\n",
       "      <td>0.0</td>\n",
       "      <td>1.0</td>\n",
       "      <td>0.0</td>\n",
       "      <td>liq</td>\n",
       "      <td>...</td>\n",
       "      <td>NaN</td>\n",
       "      <td>NaN</td>\n",
       "      <td>NaN</td>\n",
       "      <td>NaN</td>\n",
       "      <td>NaN</td>\n",
       "      <td>76,389</td>\n",
       "      <td>NaN</td>\n",
       "      <td>NaN</td>\n",
       "      <td>6,528</td>\n",
       "      <td>NaN</td>\n",
       "    </tr>\n",
       "    <tr>\n",
       "      <th>1</th>\n",
       "      <td>DZA</td>\n",
       "      <td>Algeria</td>\n",
       "      <td>3. Lower Middle Income</td>\n",
       "      <td>French</td>\n",
       "      <td>1.0</td>\n",
       "      <td>0.0</td>\n",
       "      <td>1.0</td>\n",
       "      <td>0.0</td>\n",
       "      <td>0.0</td>\n",
       "      <td>reorg</td>\n",
       "      <td>...</td>\n",
       "      <td>4,1</td>\n",
       "      <td>2,2</td>\n",
       "      <td>3,6</td>\n",
       "      <td>4,1</td>\n",
       "      <td>1,7</td>\n",
       "      <td>72,222</td>\n",
       "      <td>NaN</td>\n",
       "      <td>NaN</td>\n",
       "      <td>5,714</td>\n",
       "      <td>NaN</td>\n",
       "    </tr>\n",
       "    <tr>\n",
       "      <th>2</th>\n",
       "      <td>AGO</td>\n",
       "      <td>Angola</td>\n",
       "      <td>3. Lower Middle Income</td>\n",
       "      <td>French</td>\n",
       "      <td>1.0</td>\n",
       "      <td>0.0</td>\n",
       "      <td>1.0</td>\n",
       "      <td>0.0</td>\n",
       "      <td>0.0</td>\n",
       "      <td>reorg</td>\n",
       "      <td>...</td>\n",
       "      <td>2,2</td>\n",
       "      <td>2,1</td>\n",
       "      <td>3,5</td>\n",
       "      <td>4,0</td>\n",
       "      <td>2,0</td>\n",
       "      <td>81,944</td>\n",
       "      <td>NaN</td>\n",
       "      <td>NaN</td>\n",
       "      <td>5,000</td>\n",
       "      <td>NaN</td>\n",
       "    </tr>\n",
       "    <tr>\n",
       "      <th>3</th>\n",
       "      <td>ARG</td>\n",
       "      <td>Argentina</td>\n",
       "      <td>2. Upper middle income</td>\n",
       "      <td>French</td>\n",
       "      <td>1.0</td>\n",
       "      <td>0.0</td>\n",
       "      <td>1.0</td>\n",
       "      <td>0.0</td>\n",
       "      <td>0.0</td>\n",
       "      <td>reorg</td>\n",
       "      <td>...</td>\n",
       "      <td>3,4</td>\n",
       "      <td>1,7</td>\n",
       "      <td>1,3</td>\n",
       "      <td>2,8</td>\n",
       "      <td>3,6</td>\n",
       "      <td>79,861</td>\n",
       "      <td>3,901</td>\n",
       "      <td>4,633</td>\n",
       "      <td>6,012</td>\n",
       "      <td>2,41</td>\n",
       "    </tr>\n",
       "    <tr>\n",
       "      <th>4</th>\n",
       "      <td>ARM</td>\n",
       "      <td>Armenia</td>\n",
       "      <td>3. Lower Middle Income</td>\n",
       "      <td>German</td>\n",
       "      <td>1.0</td>\n",
       "      <td>0.0</td>\n",
       "      <td>0.0</td>\n",
       "      <td>1.0</td>\n",
       "      <td>0.0</td>\n",
       "      <td>fcl</td>\n",
       "      <td>...</td>\n",
       "      <td>NaN</td>\n",
       "      <td>NaN</td>\n",
       "      <td>NaN</td>\n",
       "      <td>NaN</td>\n",
       "      <td>NaN</td>\n",
       "      <td>45,833</td>\n",
       "      <td>NaN</td>\n",
       "      <td>NaN</td>\n",
       "      <td>NaN</td>\n",
       "      <td>NaN</td>\n",
       "    </tr>\n",
       "  </tbody>\n",
       "</table>\n",
       "<p>5 rows × 67 columns</p>\n",
       "</div>"
      ],
      "text/plain": [
       "  code    country                     igp bkorigin  civil  eng  fren  ger  \\\n",
       "0  ALB    Albania  3. Lower Middle Income   German    1.0  0.0   0.0  1.0   \n",
       "1  DZA    Algeria  3. Lower Middle Income   French    1.0  0.0   1.0  0.0   \n",
       "2  AGO     Angola  3. Lower Middle Income   French    1.0  0.0   1.0  0.0   \n",
       "3  ARG  Argentina  2. Upper middle income   French    1.0  0.0   1.0  0.0   \n",
       "4  ARM    Armenia  3. Lower Middle Income   German    1.0  0.0   0.0  1.0   \n",
       "\n",
       "   nordic  aproc  ... effbank loan credimp sound sophisti formali b_delayt  \\\n",
       "0     0.0    liq  ...     NaN  NaN     NaN   NaN      NaN  76,389      NaN   \n",
       "1     0.0  reorg  ...     4,1  2,2     3,6   4,1      1,7  72,222      NaN   \n",
       "2     0.0  reorg  ...     2,2  2,1     3,5   4,0      2,0  81,944      NaN   \n",
       "3     0.0  reorg  ...     3,4  1,7     1,3   2,8      3,6  79,861    3,901   \n",
       "4     0.0    fcl  ...     NaN  NaN     NaN   NaN      NaN  45,833      NaN   \n",
       "\n",
       "  infraest corrupt taxevas  \n",
       "0      NaN   6,528     NaN  \n",
       "1      NaN   5,714     NaN  \n",
       "2      NaN   5,000     NaN  \n",
       "3    4,633   6,012    2,41  \n",
       "4      NaN     NaN     NaN  \n",
       "\n",
       "[5 rows x 67 columns]"
      ]
     },
     "execution_count": 4,
     "metadata": {},
     "output_type": "execute_result"
    }
   ],
   "source": [
    "rule_of_law_df.columns = [\"country\",\"code\",\"region\",\"income group\",\"rule of law\"]\n",
    "debt_df.head()"
   ]
  },
  {
   "cell_type": "code",
   "execution_count": 5,
   "metadata": {},
   "outputs": [
    {
     "data": {
      "text/html": [
       "<div>\n",
       "<style scoped>\n",
       "    .dataframe tbody tr th:only-of-type {\n",
       "        vertical-align: middle;\n",
       "    }\n",
       "\n",
       "    .dataframe tbody tr th {\n",
       "        vertical-align: top;\n",
       "    }\n",
       "\n",
       "    .dataframe thead th {\n",
       "        text-align: right;\n",
       "    }\n",
       "</style>\n",
       "<table border=\"1\" class=\"dataframe\">\n",
       "  <thead>\n",
       "    <tr style=\"text-align: right;\">\n",
       "      <th></th>\n",
       "      <th>code</th>\n",
       "      <th>country</th>\n",
       "      <th>igp</th>\n",
       "      <th>bkorigin</th>\n",
       "      <th>civil</th>\n",
       "      <th>eng</th>\n",
       "      <th>fren</th>\n",
       "      <th>ger</th>\n",
       "      <th>nordic</th>\n",
       "      <th>aproc</th>\n",
       "      <th>...</th>\n",
       "      <th>loan</th>\n",
       "      <th>credimp</th>\n",
       "      <th>sound</th>\n",
       "      <th>sophisti</th>\n",
       "      <th>formali</th>\n",
       "      <th>b_delayt</th>\n",
       "      <th>infraest</th>\n",
       "      <th>corrupt</th>\n",
       "      <th>taxevas</th>\n",
       "      <th>juridiq</th>\n",
       "    </tr>\n",
       "  </thead>\n",
       "  <tbody>\n",
       "    <tr>\n",
       "      <th>0</th>\n",
       "      <td>ALB</td>\n",
       "      <td>Albania</td>\n",
       "      <td>3. Lower Middle Income</td>\n",
       "      <td>German</td>\n",
       "      <td>1.0</td>\n",
       "      <td>0.0</td>\n",
       "      <td>0.0</td>\n",
       "      <td>1.0</td>\n",
       "      <td>0.0</td>\n",
       "      <td>liq</td>\n",
       "      <td>...</td>\n",
       "      <td>NaN</td>\n",
       "      <td>NaN</td>\n",
       "      <td>NaN</td>\n",
       "      <td>NaN</td>\n",
       "      <td>76,389</td>\n",
       "      <td>NaN</td>\n",
       "      <td>NaN</td>\n",
       "      <td>6,528</td>\n",
       "      <td>NaN</td>\n",
       "      <td>civil ger</td>\n",
       "    </tr>\n",
       "    <tr>\n",
       "      <th>1</th>\n",
       "      <td>DZA</td>\n",
       "      <td>Algeria</td>\n",
       "      <td>3. Lower Middle Income</td>\n",
       "      <td>French</td>\n",
       "      <td>1.0</td>\n",
       "      <td>0.0</td>\n",
       "      <td>1.0</td>\n",
       "      <td>0.0</td>\n",
       "      <td>0.0</td>\n",
       "      <td>reorg</td>\n",
       "      <td>...</td>\n",
       "      <td>2,2</td>\n",
       "      <td>3,6</td>\n",
       "      <td>4,1</td>\n",
       "      <td>1,7</td>\n",
       "      <td>72,222</td>\n",
       "      <td>NaN</td>\n",
       "      <td>NaN</td>\n",
       "      <td>5,714</td>\n",
       "      <td>NaN</td>\n",
       "      <td>civil fren</td>\n",
       "    </tr>\n",
       "    <tr>\n",
       "      <th>2</th>\n",
       "      <td>AGO</td>\n",
       "      <td>Angola</td>\n",
       "      <td>3. Lower Middle Income</td>\n",
       "      <td>French</td>\n",
       "      <td>1.0</td>\n",
       "      <td>0.0</td>\n",
       "      <td>1.0</td>\n",
       "      <td>0.0</td>\n",
       "      <td>0.0</td>\n",
       "      <td>reorg</td>\n",
       "      <td>...</td>\n",
       "      <td>2,1</td>\n",
       "      <td>3,5</td>\n",
       "      <td>4,0</td>\n",
       "      <td>2,0</td>\n",
       "      <td>81,944</td>\n",
       "      <td>NaN</td>\n",
       "      <td>NaN</td>\n",
       "      <td>5,000</td>\n",
       "      <td>NaN</td>\n",
       "      <td>civil fren</td>\n",
       "    </tr>\n",
       "    <tr>\n",
       "      <th>3</th>\n",
       "      <td>ARG</td>\n",
       "      <td>Argentina</td>\n",
       "      <td>2. Upper middle income</td>\n",
       "      <td>French</td>\n",
       "      <td>1.0</td>\n",
       "      <td>0.0</td>\n",
       "      <td>1.0</td>\n",
       "      <td>0.0</td>\n",
       "      <td>0.0</td>\n",
       "      <td>reorg</td>\n",
       "      <td>...</td>\n",
       "      <td>1,7</td>\n",
       "      <td>1,3</td>\n",
       "      <td>2,8</td>\n",
       "      <td>3,6</td>\n",
       "      <td>79,861</td>\n",
       "      <td>3,901</td>\n",
       "      <td>4,633</td>\n",
       "      <td>6,012</td>\n",
       "      <td>2,41</td>\n",
       "      <td>civil fren</td>\n",
       "    </tr>\n",
       "    <tr>\n",
       "      <th>4</th>\n",
       "      <td>ARM</td>\n",
       "      <td>Armenia</td>\n",
       "      <td>3. Lower Middle Income</td>\n",
       "      <td>German</td>\n",
       "      <td>1.0</td>\n",
       "      <td>0.0</td>\n",
       "      <td>0.0</td>\n",
       "      <td>1.0</td>\n",
       "      <td>0.0</td>\n",
       "      <td>fcl</td>\n",
       "      <td>...</td>\n",
       "      <td>NaN</td>\n",
       "      <td>NaN</td>\n",
       "      <td>NaN</td>\n",
       "      <td>NaN</td>\n",
       "      <td>45,833</td>\n",
       "      <td>NaN</td>\n",
       "      <td>NaN</td>\n",
       "      <td>NaN</td>\n",
       "      <td>NaN</td>\n",
       "      <td>civil ger</td>\n",
       "    </tr>\n",
       "  </tbody>\n",
       "</table>\n",
       "<p>5 rows × 68 columns</p>\n",
       "</div>"
      ],
      "text/plain": [
       "  code    country                     igp bkorigin  civil  eng  fren  ger  \\\n",
       "0  ALB    Albania  3. Lower Middle Income   German    1.0  0.0   0.0  1.0   \n",
       "1  DZA    Algeria  3. Lower Middle Income   French    1.0  0.0   1.0  0.0   \n",
       "2  AGO     Angola  3. Lower Middle Income   French    1.0  0.0   1.0  0.0   \n",
       "3  ARG  Argentina  2. Upper middle income   French    1.0  0.0   1.0  0.0   \n",
       "4  ARM    Armenia  3. Lower Middle Income   German    1.0  0.0   0.0  1.0   \n",
       "\n",
       "   nordic  aproc  ... loan credimp sound sophisti formali b_delayt infraest  \\\n",
       "0     0.0    liq  ...  NaN     NaN   NaN      NaN  76,389      NaN      NaN   \n",
       "1     0.0  reorg  ...  2,2     3,6   4,1      1,7  72,222      NaN      NaN   \n",
       "2     0.0  reorg  ...  2,1     3,5   4,0      2,0  81,944      NaN      NaN   \n",
       "3     0.0  reorg  ...  1,7     1,3   2,8      3,6  79,861    3,901    4,633   \n",
       "4     0.0    fcl  ...  NaN     NaN   NaN      NaN  45,833      NaN      NaN   \n",
       "\n",
       "  corrupt taxevas     juridiq  \n",
       "0   6,528     NaN   civil ger  \n",
       "1   5,714     NaN  civil fren  \n",
       "2   5,000     NaN  civil fren  \n",
       "3   6,012    2,41  civil fren  \n",
       "4     NaN     NaN   civil ger  \n",
       "\n",
       "[5 rows x 68 columns]"
      ]
     },
     "execution_count": 5,
     "metadata": {},
     "output_type": "execute_result"
    }
   ],
   "source": [
    "\n",
    "def clarify(df):\n",
    "    answer = \"\"\n",
    "    if df['civil'] == 1:\n",
    "        answer += \"civil \"\n",
    "    \n",
    "    if df['eng'] == 1:\n",
    "        answer += \"common low\"\n",
    "    elif df['fren'] == 1:\n",
    "        answer += \"fren\"\n",
    "    elif df['ger'] == 1:\n",
    "        answer += \"ger\"\n",
    "    elif df['nordic'] == 1:\n",
    "        answer += \"nordic\"\n",
    "    return answer\n",
    "    \n",
    "debt_df[\"juridiq\"] = debt_df.apply(clarify, axis=1)\n",
    "debt_df.head()"
   ]
  },
  {
   "cell_type": "code",
   "execution_count": 6,
   "metadata": {
    "scrolled": true
   },
   "outputs": [
    {
     "data": {
      "text/plain": [
       "0           Australia\n",
       "1             Austria\n",
       "2             Belgium\n",
       "3              Brazil\n",
       "4              Canada\n",
       "5               Chile\n",
       "6            Colombia\n",
       "7          Costa Rica\n",
       "8      Czech Republic\n",
       "9             Denmark\n",
       "10            Estonia\n",
       "11            Finland\n",
       "12             France\n",
       "13            Germany\n",
       "14             Greece\n",
       "15            Hungary\n",
       "16          Indonesia\n",
       "17            Ireland\n",
       "18              Italy\n",
       "19              Japan\n",
       "20              Korea\n",
       "21             Latvia\n",
       "22          Lithuania\n",
       "23             Mexico\n",
       "24        Netherlands\n",
       "25        New Zealand\n",
       "26             Norway\n",
       "27             Poland\n",
       "28           Portugal\n",
       "29    Slovak Republic\n",
       "30           Slovenia\n",
       "31              Spain\n",
       "32             Sweden\n",
       "33            Türkiye\n",
       "34     United Kingdom\n",
       "35      United States\n",
       "Name: Country, dtype: object"
      ]
     },
     "execution_count": 6,
     "metadata": {},
     "output_type": "execute_result"
    }
   ],
   "source": [
    "rule_law_df = rule_of_law_df.merge(debt_df[[\"code\", \"country\", \"juridiq\"]], on=\"code\").merge(gdp_df, on=\"code\")[[\"Country\",\"juridiq\", \"rule of law\", \"Value\"]]\n",
    "rule_law_df[\"Country\"]"
   ]
  },
  {
   "cell_type": "code",
   "execution_count": null,
   "metadata": {},
   "outputs": [],
   "source": []
  },
  {
   "cell_type": "code",
   "execution_count": 7,
   "metadata": {},
   "outputs": [
    {
     "data": {
      "text/html": [
       "<div>\n",
       "<style scoped>\n",
       "    .dataframe tbody tr th:only-of-type {\n",
       "        vertical-align: middle;\n",
       "    }\n",
       "\n",
       "    .dataframe tbody tr th {\n",
       "        vertical-align: top;\n",
       "    }\n",
       "\n",
       "    .dataframe thead th {\n",
       "        text-align: right;\n",
       "    }\n",
       "</style>\n",
       "<table border=\"1\" class=\"dataframe\">\n",
       "  <thead>\n",
       "    <tr style=\"text-align: right;\">\n",
       "      <th></th>\n",
       "      <th>rule_of_law</th>\n",
       "      <th>gdp_per_capita</th>\n",
       "    </tr>\n",
       "    <tr>\n",
       "      <th>juridiq</th>\n",
       "      <th></th>\n",
       "      <th></th>\n",
       "    </tr>\n",
       "  </thead>\n",
       "  <tbody>\n",
       "    <tr>\n",
       "      <th>civil fren</th>\n",
       "      <td>0.624</td>\n",
       "      <td>34048.483</td>\n",
       "    </tr>\n",
       "    <tr>\n",
       "      <th>civil ger</th>\n",
       "      <td>0.716</td>\n",
       "      <td>43449.323</td>\n",
       "    </tr>\n",
       "    <tr>\n",
       "      <th>civil nordic</th>\n",
       "      <td>0.885</td>\n",
       "      <td>64695.985</td>\n",
       "    </tr>\n",
       "    <tr>\n",
       "      <th>common low</th>\n",
       "      <td>0.779</td>\n",
       "      <td>59770.683</td>\n",
       "    </tr>\n",
       "  </tbody>\n",
       "</table>\n",
       "</div>"
      ],
      "text/plain": [
       "              rule_of_law  gdp_per_capita\n",
       "juridiq                                  \n",
       "civil fren          0.624       34048.483\n",
       "civil ger           0.716       43449.323\n",
       "civil nordic        0.885       64695.985\n",
       "common low          0.779       59770.683"
      ]
     },
     "execution_count": 7,
     "metadata": {},
     "output_type": "execute_result"
    }
   ],
   "source": [
    "rule_law_df = rule_law_df[[\"juridiq\", \"rule of law\", \"Value\"]]\n",
    "rule_law_df.columns = [\"juridiq\",\"rule_of_law\", \"gdp_per_capita\"]\n",
    "rule_law_df.groupby(\"juridiq\").mean().applymap(lambda x: round(x, 3))"
   ]
  },
  {
   "cell_type": "markdown",
   "metadata": {},
   "source": []
  },
  {
   "cell_type": "markdown",
   "metadata": {},
   "source": [
    "# Some regression"
   ]
  },
  {
   "cell_type": "code",
   "execution_count": 8,
   "metadata": {},
   "outputs": [],
   "source": [
    "def standardize(df, features):\n",
    "    df_standardized = df.copy()\n",
    "    for f in features:\n",
    "        mu = df[f].mean()\n",
    "        sigma = df[f].std()\n",
    "        df_standardized[f] = df[f].map(lambda x: (x - mu) / sigma)\n",
    "    return df_standardized"
   ]
  },
  {
   "cell_type": "markdown",
   "metadata": {},
   "source": [
    "## On choisit les colonnes numériques pour les standardiser"
   ]
  },
  {
   "cell_type": "code",
   "execution_count": 9,
   "metadata": {},
   "outputs": [],
   "source": [
    "rule_law_updated_df = rule_of_law_df.merge(debt_df[[\"code\", \"country\", \"juridiq\"]], on=\"code\")\\\n",
    "        .merge(gdp_df, on=\"code\")\\\n",
    "        .merge(corrupt_df, on=\"code\")[[\"Country\",\"juridiq\", \"rule of law\", \"Value\", \"corrupt\"]]\n"
   ]
  },
  {
   "cell_type": "code",
   "execution_count": 10,
   "metadata": {
    "scrolled": true
   },
   "outputs": [
    {
     "data": {
      "text/html": [
       "<div>\n",
       "<style scoped>\n",
       "    .dataframe tbody tr th:only-of-type {\n",
       "        vertical-align: middle;\n",
       "    }\n",
       "\n",
       "    .dataframe tbody tr th {\n",
       "        vertical-align: top;\n",
       "    }\n",
       "\n",
       "    .dataframe thead th {\n",
       "        text-align: right;\n",
       "    }\n",
       "</style>\n",
       "<table border=\"1\" class=\"dataframe\">\n",
       "  <thead>\n",
       "    <tr style=\"text-align: right;\">\n",
       "      <th></th>\n",
       "      <th>rule_of_law</th>\n",
       "      <th>gdp_per_capita</th>\n",
       "    </tr>\n",
       "    <tr>\n",
       "      <th>juridiq</th>\n",
       "      <th></th>\n",
       "      <th></th>\n",
       "    </tr>\n",
       "  </thead>\n",
       "  <tbody>\n",
       "    <tr>\n",
       "      <th>civil fren</th>\n",
       "      <td>0.624</td>\n",
       "      <td>34048.483</td>\n",
       "    </tr>\n",
       "    <tr>\n",
       "      <th>civil ger</th>\n",
       "      <td>0.716</td>\n",
       "      <td>43449.323</td>\n",
       "    </tr>\n",
       "    <tr>\n",
       "      <th>civil nordic</th>\n",
       "      <td>0.885</td>\n",
       "      <td>64695.985</td>\n",
       "    </tr>\n",
       "    <tr>\n",
       "      <th>common low</th>\n",
       "      <td>0.779</td>\n",
       "      <td>59770.683</td>\n",
       "    </tr>\n",
       "  </tbody>\n",
       "</table>\n",
       "</div>"
      ],
      "text/plain": [
       "              rule_of_law  gdp_per_capita\n",
       "juridiq                                  \n",
       "civil fren          0.624       34048.483\n",
       "civil ger           0.716       43449.323\n",
       "civil nordic        0.885       64695.985\n",
       "common low          0.779       59770.683"
      ]
     },
     "execution_count": 10,
     "metadata": {},
     "output_type": "execute_result"
    }
   ],
   "source": [
    "rule_law_updated_df = rule_law_updated_df[[\"juridiq\", \"rule of law\", \"Value\", \"corrupt\"]]\n",
    "rule_law_updated_df.columns = [\"juridiq\",\"rule_of_law\", \"gdp_per_capita\", \"control_of_corruption\"]\n",
    "rule_law_updated_df.groupby(\"juridiq\").mean().applymap(lambda x: round(x, 3))"
   ]
  },
  {
   "cell_type": "code",
   "execution_count": 11,
   "metadata": {},
   "outputs": [
    {
     "data": {
      "text/plain": [
       "juridiq                   object\n",
       "rule_of_law              float64\n",
       "gdp_per_capita           float64\n",
       "control_of_corruption     object\n",
       "dtype: object"
      ]
     },
     "execution_count": 11,
     "metadata": {},
     "output_type": "execute_result"
    }
   ],
   "source": [
    "rule_law_updated_df.dtypes"
   ]
  },
  {
   "cell_type": "code",
   "execution_count": 12,
   "metadata": {},
   "outputs": [],
   "source": [
    "rule_law_updated_df.dropna(inplace=True)\n",
    "rule_law_updated_df[\"control_of_corruption\"] = rule_law_updated_df[\"control_of_corruption\"].map(lambda x: str(x))\n",
    "rule_law_updated_df[\"control_of_corruption\"] = rule_law_updated_df[\"control_of_corruption\"].map(lambda x: x.replace(\",\", \".\"))\n",
    "rule_law_updated_df[\"control_of_corruption\"] = pd.to_numeric(rule_law_updated_df[\"control_of_corruption\"])"
   ]
  },
  {
   "cell_type": "code",
   "execution_count": 13,
   "metadata": {},
   "outputs": [],
   "source": [
    "features = [\"rule_of_law\", \"gdp_per_capita\", \"control_of_corruption\"]\n",
    "\n",
    "df_standardized = standardize(rule_law_updated_df, features)"
   ]
  },
  {
   "cell_type": "code",
   "execution_count": 14,
   "metadata": {},
   "outputs": [
    {
     "data": {
      "text/plain": [
       "juridiq                   object\n",
       "rule_of_law              float64\n",
       "gdp_per_capita           float64\n",
       "control_of_corruption    float64\n",
       "dtype: object"
      ]
     },
     "execution_count": 14,
     "metadata": {},
     "output_type": "execute_result"
    }
   ],
   "source": [
    "df_standardized.dtypes"
   ]
  },
  {
   "cell_type": "code",
   "execution_count": 15,
   "metadata": {},
   "outputs": [
    {
     "data": {
      "text/html": [
       "<table class=\"simpletable\">\n",
       "<caption>OLS Regression Results</caption>\n",
       "<tr>\n",
       "  <th>Dep. Variable:</th>       <td>rule_of_law</td>   <th>  R-squared:         </th> <td>   0.769</td>\n",
       "</tr>\n",
       "<tr>\n",
       "  <th>Model:</th>                   <td>OLS</td>       <th>  Adj. R-squared:    </th> <td>   0.723</td>\n",
       "</tr>\n",
       "<tr>\n",
       "  <th>Method:</th>             <td>Least Squares</td>  <th>  F-statistic:       </th> <td>   16.69</td>\n",
       "</tr>\n",
       "<tr>\n",
       "  <th>Date:</th>             <td>Fri, 31 Mar 2023</td> <th>  Prob (F-statistic):</th> <td>2.90e-07</td>\n",
       "</tr>\n",
       "<tr>\n",
       "  <th>Time:</th>                 <td>10:13:52</td>     <th>  Log-Likelihood:    </th> <td> -20.737</td>\n",
       "</tr>\n",
       "<tr>\n",
       "  <th>No. Observations:</th>      <td>    31</td>      <th>  AIC:               </th> <td>   53.47</td>\n",
       "</tr>\n",
       "<tr>\n",
       "  <th>Df Residuals:</th>          <td>    25</td>      <th>  BIC:               </th> <td>   62.08</td>\n",
       "</tr>\n",
       "<tr>\n",
       "  <th>Df Model:</th>              <td>     5</td>      <th>                     </th>     <td> </td>   \n",
       "</tr>\n",
       "<tr>\n",
       "  <th>Covariance Type:</th>      <td>nonrobust</td>    <th>                     </th>     <td> </td>   \n",
       "</tr>\n",
       "</table>\n",
       "<table class=\"simpletable\">\n",
       "<tr>\n",
       "              <td></td>                <th>coef</th>     <th>std err</th>      <th>t</th>      <th>P>|t|</th>  <th>[0.025</th>    <th>0.975]</th>  \n",
       "</tr>\n",
       "<tr>\n",
       "  <th>C(juridiq)[civil fren]</th>   <td>   -0.1408</td> <td>    0.164</td> <td>   -0.857</td> <td> 0.400</td> <td>   -0.479</td> <td>    0.198</td>\n",
       "</tr>\n",
       "<tr>\n",
       "  <th>C(juridiq)[civil ger]</th>    <td>   -0.1171</td> <td>    0.235</td> <td>   -0.497</td> <td> 0.623</td> <td>   -0.602</td> <td>    0.368</td>\n",
       "</tr>\n",
       "<tr>\n",
       "  <th>C(juridiq)[civil nordic]</th> <td>    0.4275</td> <td>    0.300</td> <td>    1.426</td> <td> 0.166</td> <td>   -0.190</td> <td>    1.045</td>\n",
       "</tr>\n",
       "<tr>\n",
       "  <th>C(juridiq)[common low]</th>   <td>    0.1059</td> <td>    0.203</td> <td>    0.522</td> <td> 0.606</td> <td>   -0.312</td> <td>    0.523</td>\n",
       "</tr>\n",
       "<tr>\n",
       "  <th>gdp_per_capita</th>           <td>    0.2969</td> <td>    0.144</td> <td>    2.066</td> <td> 0.049</td> <td>    0.001</td> <td>    0.593</td>\n",
       "</tr>\n",
       "<tr>\n",
       "  <th>control_of_corruption</th>    <td>    0.5080</td> <td>    0.140</td> <td>    3.638</td> <td> 0.001</td> <td>    0.220</td> <td>    0.796</td>\n",
       "</tr>\n",
       "</table>\n",
       "<table class=\"simpletable\">\n",
       "<tr>\n",
       "  <th>Omnibus:</th>       <td> 2.142</td> <th>  Durbin-Watson:     </th> <td>   2.441</td>\n",
       "</tr>\n",
       "<tr>\n",
       "  <th>Prob(Omnibus):</th> <td> 0.343</td> <th>  Jarque-Bera (JB):  </th> <td>   1.740</td>\n",
       "</tr>\n",
       "<tr>\n",
       "  <th>Skew:</th>          <td>-0.570</td> <th>  Prob(JB):          </th> <td>   0.419</td>\n",
       "</tr>\n",
       "<tr>\n",
       "  <th>Kurtosis:</th>      <td> 2.781</td> <th>  Cond. No.          </th> <td>    4.41</td>\n",
       "</tr>\n",
       "</table><br/><br/>Notes:<br/>[1] Standard Errors assume that the covariance matrix of the errors is correctly specified."
      ],
      "text/plain": [
       "<class 'statsmodels.iolib.summary.Summary'>\n",
       "\"\"\"\n",
       "                            OLS Regression Results                            \n",
       "==============================================================================\n",
       "Dep. Variable:            rule_of_law   R-squared:                       0.769\n",
       "Model:                            OLS   Adj. R-squared:                  0.723\n",
       "Method:                 Least Squares   F-statistic:                     16.69\n",
       "Date:                Fri, 31 Mar 2023   Prob (F-statistic):           2.90e-07\n",
       "Time:                        10:13:52   Log-Likelihood:                -20.737\n",
       "No. Observations:                  31   AIC:                             53.47\n",
       "Df Residuals:                      25   BIC:                             62.08\n",
       "Df Model:                           5                                         \n",
       "Covariance Type:            nonrobust                                         \n",
       "============================================================================================\n",
       "                               coef    std err          t      P>|t|      [0.025      0.975]\n",
       "--------------------------------------------------------------------------------------------\n",
       "C(juridiq)[civil fren]      -0.1408      0.164     -0.857      0.400      -0.479       0.198\n",
       "C(juridiq)[civil ger]       -0.1171      0.235     -0.497      0.623      -0.602       0.368\n",
       "C(juridiq)[civil nordic]     0.4275      0.300      1.426      0.166      -0.190       1.045\n",
       "C(juridiq)[common low]       0.1059      0.203      0.522      0.606      -0.312       0.523\n",
       "gdp_per_capita               0.2969      0.144      2.066      0.049       0.001       0.593\n",
       "control_of_corruption        0.5080      0.140      3.638      0.001       0.220       0.796\n",
       "==============================================================================\n",
       "Omnibus:                        2.142   Durbin-Watson:                   2.441\n",
       "Prob(Omnibus):                  0.343   Jarque-Bera (JB):                1.740\n",
       "Skew:                          -0.570   Prob(JB):                        0.419\n",
       "Kurtosis:                       2.781   Cond. No.                         4.41\n",
       "==============================================================================\n",
       "\n",
       "Notes:\n",
       "[1] Standard Errors assume that the covariance matrix of the errors is correctly specified.\n",
       "\"\"\""
      ]
     },
     "execution_count": 15,
     "metadata": {},
     "output_type": "execute_result"
    }
   ],
   "source": [
    "import statsmodels.formula.api as smf\n",
    "model = smf.ols(formula = 'rule_of_law ~ gdp_per_capita + control_of_corruption + C(juridiq) -1', data=df_standardized).fit()\n",
    "model.summary()"
   ]
  },
  {
   "cell_type": "code",
   "execution_count": 16,
   "metadata": {},
   "outputs": [
    {
     "data": {
      "text/plain": [
       "C(juridiq)[civil fren]     -0.140847\n",
       "C(juridiq)[civil ger]      -0.117052\n",
       "C(juridiq)[civil nordic]    0.427523\n",
       "C(juridiq)[common low]      0.105878\n",
       "gdp_per_capita              0.296890\n",
       "control_of_corruption       0.507972\n",
       "dtype: float64"
      ]
     },
     "execution_count": 16,
     "metadata": {},
     "output_type": "execute_result"
    }
   ],
   "source": [
    "model.params"
   ]
  },
  {
   "cell_type": "code",
   "execution_count": 17,
   "metadata": {},
   "outputs": [],
   "source": [
    "def return_significative_coef(model):\n",
    "    \"\"\"\n",
    "    Returns p_value, lower and upper bound coefficients\n",
    "    from a statsmodels object.\n",
    "    \"\"\"\n",
    "    # Extract p_values\n",
    "    p_values = model.pvalues.reset_index()\n",
    "    p_values.columns = ['variable', 'p_value']\n",
    "\n",
    "    # Extract coef_int\n",
    "    coef = model.params.reset_index()\n",
    "    coef.columns = ['variable', 'coef']\n",
    "    return p_values.merge(coef,\n",
    "                          on='variable')\\\n",
    "                   .query(\"p_value<0.05\").sort_values(by='coef',\n",
    "                                                      ascending=False)\n"
   ]
  },
  {
   "cell_type": "code",
   "execution_count": 18,
   "metadata": {},
   "outputs": [
    {
     "data": {
      "text/plain": [
       "<AxesSubplot:>"
      ]
     },
     "execution_count": 18,
     "metadata": {},
     "output_type": "execute_result"
    },
    {
     "data": {
      "image/png": "[encoded data removed]",
      "text/plain": [
       "<Figure size 640x480 with 1 Axes>"
      ]
     },
     "metadata": {},
     "output_type": "display_data"
    }
   ],
   "source": [
    "model.params.plot(kind=\"bar\")"
   ]
  },
  {
   "cell_type": "code",
   "execution_count": 19,
   "metadata": {},
   "outputs": [
    {
     "data": {
      "text/html": [
       "<div>\n",
       "<style scoped>\n",
       "    .dataframe tbody tr th:only-of-type {\n",
       "        vertical-align: middle;\n",
       "    }\n",
       "\n",
       "    .dataframe tbody tr th {\n",
       "        vertical-align: top;\n",
       "    }\n",
       "\n",
       "    .dataframe thead th {\n",
       "        text-align: right;\n",
       "    }\n",
       "</style>\n",
       "<table border=\"1\" class=\"dataframe\">\n",
       "  <thead>\n",
       "    <tr style=\"text-align: right;\">\n",
       "      <th></th>\n",
       "      <th>variable</th>\n",
       "      <th>p_value</th>\n",
       "      <th>coef</th>\n",
       "    </tr>\n",
       "  </thead>\n",
       "  <tbody>\n",
       "    <tr>\n",
       "      <th>5</th>\n",
       "      <td>control_of_corruption</td>\n",
       "      <td>0.001248</td>\n",
       "      <td>0.507972</td>\n",
       "    </tr>\n",
       "    <tr>\n",
       "      <th>4</th>\n",
       "      <td>gdp_per_capita</td>\n",
       "      <td>0.049325</td>\n",
       "      <td>0.296890</td>\n",
       "    </tr>\n",
       "  </tbody>\n",
       "</table>\n",
       "</div>"
      ],
      "text/plain": [
       "                variable   p_value      coef\n",
       "5  control_of_corruption  0.001248  0.507972\n",
       "4         gdp_per_capita  0.049325  0.296890"
      ]
     },
     "execution_count": 19,
     "metadata": {},
     "output_type": "execute_result"
    }
   ],
   "source": [
    "return_significative_coef(model)"
   ]
  },
  {
   "cell_type": "code",
   "execution_count": 20,
   "metadata": {},
   "outputs": [
    {
     "name": "stdout",
     "output_type": "stream",
     "text": [
      "eval_env: 1\n",
      "eval_env: 1\n",
      "eval_env: 1\n",
      "eval_env: 1\n",
      "eval_env: 1\n",
      "eval_env: 1\n"
     ]
    },
    {
     "data": {
      "image/png": "[encoded data removed]",
      "text/plain": [
       "<Figure size 640x480 with 6 Axes>"
      ]
     },
     "metadata": {},
     "output_type": "display_data"
    }
   ],
   "source": [
    "import statsmodels.api as sm\n",
    "\n",
    "sm.graphics.plot_partregress_grid(model)\n",
    "plt.show();"
   ]
  },
  {
   "cell_type": "code",
   "execution_count": null,
   "metadata": {},
   "outputs": [],
   "source": []
  },
  {
   "cell_type": "code",
   "execution_count": null,
   "metadata": {},
   "outputs": [],
   "source": []
  },
  {
   "cell_type": "code",
   "execution_count": null,
   "metadata": {},
   "outputs": [],
   "source": []
  },
  {
   "cell_type": "code",
   "execution_count": null,
   "metadata": {},
   "outputs": [],
   "source": []
  }
 ],
 "metadata": {
  "kernelspec": {
   "display_name": "Python 3 (ipykernel)",
   "language": "python",
   "name": "python3"
  },
  "language_info": {
   "codemirror_mode": {
    "name": "ipython",
    "version": 3
   },
   "file_extension": ".py",
   "mimetype": "text/x-python",
   "name": "python",
   "nbconvert_exporter": "python",
   "pygments_lexer": "ipython3",
   "version": "3.10.6"
  }
 },
 "nbformat": 4,
 "nbformat_minor": 2
}
